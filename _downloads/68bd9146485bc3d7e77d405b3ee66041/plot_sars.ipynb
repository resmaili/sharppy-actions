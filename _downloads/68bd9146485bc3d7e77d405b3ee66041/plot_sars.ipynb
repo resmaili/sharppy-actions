{
  "cells": [
    {
      "cell_type": "code",
      "execution_count": null,
      "metadata": {
        "collapsed": false
      },
      "outputs": [],
      "source": [
        "%matplotlib inline"
      ]
    },
    {
      "cell_type": "markdown",
      "metadata": {},
      "source": [
        "\n# Plotting data from the SARS database\n"
      ]
    },
    {
      "cell_type": "code",
      "execution_count": null,
      "metadata": {
        "collapsed": false
      },
      "outputs": [],
      "source": [
        "import sharppy.sharptab as tab\nimport sharppy.databases.sars as sars\nimport numpy as np\nimport os\nimport matplotlib.pyplot as plt\n\ndatabase_fn = os.path.join( os.path.dirname( sars.__file__ ), 'sars_supercell.txt')\nsupercell_database = np.loadtxt(database_fn, skiprows=1, dtype=bytes, comments=\"%%%%\")\n\nmagnitude = []\nmlcape = []\nsrh01 = []\nfor record in supercell_database:\n    magnitude.append(int(record[1]))\n    mlcape.append(float(record[3]))\n    srh01.append(float(record[6]))\nplt.grid()\nplt.scatter(mlcape, srh01, c=magnitude, marker='.')\nplt.colorbar()\nplt.xlabel(\"MLCAPE [J/kg]\")\nplt.ylabel(r'0-1 km Storm Relative Helicity [$m^{2}/s^{2}$]')\nplt.savefig('plot_sars.png', bbox_inches='tight')\nplt.show()"
      ]
    }
  ],
  "metadata": {
    "kernelspec": {
      "display_name": "Python 3",
      "language": "python",
      "name": "python3"
    },
    "language_info": {
      "codemirror_mode": {
        "name": "ipython",
        "version": 3
      },
      "file_extension": ".py",
      "mimetype": "text/x-python",
      "name": "python",
      "nbconvert_exporter": "python",
      "pygments_lexer": "ipython3",
      "version": "3.9.13"
    }
  },
  "nbformat": 4,
  "nbformat_minor": 0
}